{
  "nbformat": 4,
  "nbformat_minor": 0,
  "metadata": {
    "colab": {
      "provenance": []
    },
    "kernelspec": {
      "name": "python3",
      "display_name": "Python 3"
    },
    "language_info": {
      "name": "python"
    }
  },
  "cells": [
    {
      "cell_type": "markdown",
      "source": [
        "This project demonstrates how to use sql magic to write SQL queries in a Jupyter notebook. Because some DBMS cannot be used to present data insights or analysis, you may want to use SQL magic on your notebook to create your presentation.\n",
        "\n",
        "Project Outcome:\n",
        "*  Learn how to connect to an existing SQLite Database\n",
        "*  How to use SQL magic in Jupyter Notebook\n",
        "*  Write queries to answer some questions\n",
        "\n",
        "Required Packages\n",
        "1. SQLite3 [ pip install sqlite ] (This should be available already, import sqlite3 to confirm)\n",
        "2. SQLAlchemy [ pip install SQLAlchemy ]\n",
        "3. Pandas [ pip install pandas ]\n",
        "4. SQL Kernel [ pip install ipython-sql] "
      ],
      "metadata": {
        "id": "K48d8bB29cnz"
      }
    },
    {
      "cell_type": "markdown",
      "source": [
        "# Personal Medical Insurance Analysis\n",
        "\n",
        "### Attribute Information\n",
        "age: age of primary beneficiary\n",
        "\n",
        "sex: insurance contractor gender, female, male\n",
        "\n",
        "bmi: Body mass index, providing an understanding of body, weights that are relatively high or low relative to height,\n",
        "objective index of body weight (kg / m ^ 2) using the ratio of height to weight, ideally 18.5 to 24.9\n",
        "\n",
        "children: Number of children covered by health insurance / Number of dependents\n",
        "\n",
        "smoker: Smoking\n",
        "\n",
        "region: the beneficiary's residential area in the US, northeast, southeast, southwest, northwest.\n",
        "\n",
        "charges: Individual medical costs billed by health insurance"
      ],
      "metadata": {
        "id": "wSAnNAUWrV2A"
      }
    },
    {
      "cell_type": "code",
      "source": [
        "import sqlite3"
      ],
      "metadata": {
        "id": "umbF1eD6W_XV"
      },
      "execution_count": 7,
      "outputs": []
    },
    {
      "cell_type": "code",
      "source": [
        "!pip install SQLAlchemy"
      ],
      "metadata": {
        "colab": {
          "base_uri": "https://localhost:8080/"
        },
        "id": "hkwMCLRNfScT",
        "outputId": "9a5ec01b-3923-4780-958b-bd46d6ced1d7"
      },
      "execution_count": 8,
      "outputs": [
        {
          "output_type": "stream",
          "name": "stdout",
          "text": [
            "Looking in indexes: https://pypi.org/simple, https://us-python.pkg.dev/colab-wheels/public/simple/\n",
            "Requirement already satisfied: SQLAlchemy in /usr/local/lib/python3.9/dist-packages (1.4.46)\n",
            "Requirement already satisfied: greenlet!=0.4.17 in /usr/local/lib/python3.9/dist-packages (from SQLAlchemy) (2.0.2)\n"
          ]
        }
      ]
    },
    {
      "cell_type": "code",
      "source": [
        "import pandas as pd"
      ],
      "metadata": {
        "id": "qqh95jEyfffS"
      },
      "execution_count": 9,
      "outputs": []
    },
    {
      "cell_type": "code",
      "execution_count": 10,
      "metadata": {
        "colab": {
          "base_uri": "https://localhost:8080/",
          "height": 35
        },
        "id": "ECk3WkV1Ui0G",
        "outputId": "2798deb8-1c51-4a84-9c2d-ef8ac1f8e8e7"
      },
      "outputs": [
        {
          "output_type": "execute_result",
          "data": {
            "text/plain": [
              "'Connected: @insurance.db'"
            ],
            "application/vnd.google.colaboratory.intrinsic+json": {
              "type": "string"
            }
          },
          "metadata": {},
          "execution_count": 10
        }
      ],
      "source": [
        "%reload_ext sql\n",
        "%sql sqlite:///insurance.db\n"
      ]
    },
    {
      "cell_type": "code",
      "source": [
        "# Data Preview\n",
        "%sql SELECT * FROM insurance LIMIT 5"
      ],
      "metadata": {
        "colab": {
          "base_uri": "https://localhost:8080/",
          "height": 183
        },
        "id": "zR8FJpciU_SQ",
        "outputId": "06b8d094-023c-4c8c-bbc7-633caa049591"
      },
      "execution_count": 11,
      "outputs": [
        {
          "output_type": "stream",
          "name": "stdout",
          "text": [
            " * sqlite:///insurance.db\n",
            "Done.\n"
          ]
        },
        {
          "output_type": "execute_result",
          "data": {
            "text/plain": [
              "[(19, 'female', 27.9, 0, 'yes', 'southwest', 16884.924),\n",
              " (18, 'male', 33.77, 1, 'no', 'southeast', 1725.5523),\n",
              " (28, 'male', 33, 3, 'no', 'southeast', 4449.462),\n",
              " (33, 'male', 22.705, 0, 'no', 'northwest', 21984.47061),\n",
              " (32, 'male', 28.88, 0, 'no', 'northwest', 3866.8552)]"
            ],
            "text/html": [
              "<table>\n",
              "    <thead>\n",
              "        <tr>\n",
              "            <th>age</th>\n",
              "            <th>sex</th>\n",
              "            <th>bmi</th>\n",
              "            <th>children</th>\n",
              "            <th>smoker</th>\n",
              "            <th>region</th>\n",
              "            <th>charges</th>\n",
              "        </tr>\n",
              "    </thead>\n",
              "    <tbody>\n",
              "        <tr>\n",
              "            <td>19</td>\n",
              "            <td>female</td>\n",
              "            <td>27.9</td>\n",
              "            <td>0</td>\n",
              "            <td>yes</td>\n",
              "            <td>southwest</td>\n",
              "            <td>16884.924</td>\n",
              "        </tr>\n",
              "        <tr>\n",
              "            <td>18</td>\n",
              "            <td>male</td>\n",
              "            <td>33.77</td>\n",
              "            <td>1</td>\n",
              "            <td>no</td>\n",
              "            <td>southeast</td>\n",
              "            <td>1725.5523</td>\n",
              "        </tr>\n",
              "        <tr>\n",
              "            <td>28</td>\n",
              "            <td>male</td>\n",
              "            <td>33</td>\n",
              "            <td>3</td>\n",
              "            <td>no</td>\n",
              "            <td>southeast</td>\n",
              "            <td>4449.462</td>\n",
              "        </tr>\n",
              "        <tr>\n",
              "            <td>33</td>\n",
              "            <td>male</td>\n",
              "            <td>22.705</td>\n",
              "            <td>0</td>\n",
              "            <td>no</td>\n",
              "            <td>northwest</td>\n",
              "            <td>21984.47061</td>\n",
              "        </tr>\n",
              "        <tr>\n",
              "            <td>32</td>\n",
              "            <td>male</td>\n",
              "            <td>28.88</td>\n",
              "            <td>0</td>\n",
              "            <td>no</td>\n",
              "            <td>northwest</td>\n",
              "            <td>3866.8552</td>\n",
              "        </tr>\n",
              "    </tbody>\n",
              "</table>"
            ]
          },
          "metadata": {},
          "execution_count": 11
        }
      ]
    },
    {
      "cell_type": "markdown",
      "source": [
        "1. How many females are smokers?"
      ],
      "metadata": {
        "id": "LH1Dio0TV2vZ"
      }
    },
    {
      "cell_type": "code",
      "source": [
        "%%sql \n",
        "SELECT  COUNT(*)count\n",
        "FROM insurance\n",
        "WHERE sex = 'female' AND smoker = 'yes' "
      ],
      "metadata": {
        "colab": {
          "base_uri": "https://localhost:8080/",
          "height": 97
        },
        "id": "Qc8qf9PAV9zH",
        "outputId": "70763dda-8f97-4f4a-8e0a-b951effbcde5"
      },
      "execution_count": 12,
      "outputs": [
        {
          "output_type": "stream",
          "name": "stdout",
          "text": [
            " * sqlite:///insurance.db\n",
            "Done.\n"
          ]
        },
        {
          "output_type": "execute_result",
          "data": {
            "text/plain": [
              "[(115,)]"
            ],
            "text/html": [
              "<table>\n",
              "    <thead>\n",
              "        <tr>\n",
              "            <th>count</th>\n",
              "        </tr>\n",
              "    </thead>\n",
              "    <tbody>\n",
              "        <tr>\n",
              "            <td>115</td>\n",
              "        </tr>\n",
              "    </tbody>\n",
              "</table>"
            ]
          },
          "metadata": {},
          "execution_count": 12
        }
      ]
    },
    {
      "cell_type": "markdown",
      "source": [
        "2. How many males are smokers?\n",
        "\n",
        "\n",
        "\n",
        "\n"
      ],
      "metadata": {
        "id": "ewkjn34jW6er"
      }
    },
    {
      "cell_type": "code",
      "source": [
        "%%sql \n",
        "SELECT  COUNT(*)count\n",
        "FROM insurance\n",
        "WHERE sex = 'male' AND smoker = 'yes'"
      ],
      "metadata": {
        "colab": {
          "base_uri": "https://localhost:8080/",
          "height": 97
        },
        "id": "vT12SQPZXM-5",
        "outputId": "36becf28-7d89-4734-ceea-175fa3ca4f53"
      },
      "execution_count": 13,
      "outputs": [
        {
          "output_type": "stream",
          "name": "stdout",
          "text": [
            " * sqlite:///insurance.db\n",
            "Done.\n"
          ]
        },
        {
          "output_type": "execute_result",
          "data": {
            "text/plain": [
              "[(159,)]"
            ],
            "text/html": [
              "<table>\n",
              "    <thead>\n",
              "        <tr>\n",
              "            <th>count</th>\n",
              "        </tr>\n",
              "    </thead>\n",
              "    <tbody>\n",
              "        <tr>\n",
              "            <td>159</td>\n",
              "        </tr>\n",
              "    </tbody>\n",
              "</table>"
            ]
          },
          "metadata": {},
          "execution_count": 13
        }
      ]
    },
    {
      "cell_type": "markdown",
      "source": [
        "3. Show the distribution of smokers and non-smokers for each region."
      ],
      "metadata": {
        "id": "pZ3ftoplXTTP"
      }
    },
    {
      "cell_type": "code",
      "source": [
        "%%sql\n",
        "SELECT region, smoker, COUNT(*) as count\n",
        "FROM insurance\n",
        "GROUP BY region, smoker"
      ],
      "metadata": {
        "colab": {
          "base_uri": "https://localhost:8080/",
          "height": 247
        },
        "id": "KMKfsruAXnpK",
        "outputId": "7be14472-372d-4eb8-dfef-8996d15b07ac"
      },
      "execution_count": 14,
      "outputs": [
        {
          "output_type": "stream",
          "name": "stdout",
          "text": [
            " * sqlite:///insurance.db\n",
            "Done.\n"
          ]
        },
        {
          "output_type": "execute_result",
          "data": {
            "text/plain": [
              "[('northeast', 'no', 257),\n",
              " ('northeast', 'yes', 67),\n",
              " ('northwest', 'no', 267),\n",
              " ('northwest', 'yes', 58),\n",
              " ('southeast', 'no', 273),\n",
              " ('southeast', 'yes', 91),\n",
              " ('southwest', 'no', 267),\n",
              " ('southwest', 'yes', 58)]"
            ],
            "text/html": [
              "<table>\n",
              "    <thead>\n",
              "        <tr>\n",
              "            <th>region</th>\n",
              "            <th>smoker</th>\n",
              "            <th>count</th>\n",
              "        </tr>\n",
              "    </thead>\n",
              "    <tbody>\n",
              "        <tr>\n",
              "            <td>northeast</td>\n",
              "            <td>no</td>\n",
              "            <td>257</td>\n",
              "        </tr>\n",
              "        <tr>\n",
              "            <td>northeast</td>\n",
              "            <td>yes</td>\n",
              "            <td>67</td>\n",
              "        </tr>\n",
              "        <tr>\n",
              "            <td>northwest</td>\n",
              "            <td>no</td>\n",
              "            <td>267</td>\n",
              "        </tr>\n",
              "        <tr>\n",
              "            <td>northwest</td>\n",
              "            <td>yes</td>\n",
              "            <td>58</td>\n",
              "        </tr>\n",
              "        <tr>\n",
              "            <td>southeast</td>\n",
              "            <td>no</td>\n",
              "            <td>273</td>\n",
              "        </tr>\n",
              "        <tr>\n",
              "            <td>southeast</td>\n",
              "            <td>yes</td>\n",
              "            <td>91</td>\n",
              "        </tr>\n",
              "        <tr>\n",
              "            <td>southwest</td>\n",
              "            <td>no</td>\n",
              "            <td>267</td>\n",
              "        </tr>\n",
              "        <tr>\n",
              "            <td>southwest</td>\n",
              "            <td>yes</td>\n",
              "            <td>58</td>\n",
              "        </tr>\n",
              "    </tbody>\n",
              "</table>"
            ]
          },
          "metadata": {},
          "execution_count": 14
        }
      ]
    },
    {
      "cell_type": "markdown",
      "source": [
        "4. Is there a region where its average charge is below the overall average charge?"
      ],
      "metadata": {
        "id": "XZzScso2YW0g"
      }
    },
    {
      "cell_type": "code",
      "source": [
        "#Average charge for each region\n",
        "%%sql\n",
        "SELECT region, AVG(charges)avg_charge\n",
        "FROM insurance\n",
        "GROUP BY region"
      ],
      "metadata": {
        "colab": {
          "base_uri": "https://localhost:8080/",
          "height": 162
        },
        "id": "aUfVus8GY7pR",
        "outputId": "08e0f07b-6f3c-4e5d-c7ef-bac9c1a817e8"
      },
      "execution_count": 15,
      "outputs": [
        {
          "output_type": "stream",
          "name": "stdout",
          "text": [
            " * sqlite:///insurance.db\n",
            "Done.\n"
          ]
        },
        {
          "output_type": "execute_result",
          "data": {
            "text/plain": [
              "[('northeast', 13406.3845163858),\n",
              " ('northwest', 12417.575373969228),\n",
              " ('southeast', 14735.411437609895),\n",
              " ('southwest', 12346.93737729231)]"
            ],
            "text/html": [
              "<table>\n",
              "    <thead>\n",
              "        <tr>\n",
              "            <th>region</th>\n",
              "            <th>avg_charge</th>\n",
              "        </tr>\n",
              "    </thead>\n",
              "    <tbody>\n",
              "        <tr>\n",
              "            <td>northeast</td>\n",
              "            <td>13406.3845163858</td>\n",
              "        </tr>\n",
              "        <tr>\n",
              "            <td>northwest</td>\n",
              "            <td>12417.575373969228</td>\n",
              "        </tr>\n",
              "        <tr>\n",
              "            <td>southeast</td>\n",
              "            <td>14735.411437609895</td>\n",
              "        </tr>\n",
              "        <tr>\n",
              "            <td>southwest</td>\n",
              "            <td>12346.93737729231</td>\n",
              "        </tr>\n",
              "    </tbody>\n",
              "</table>"
            ]
          },
          "metadata": {},
          "execution_count": 15
        }
      ]
    },
    {
      "cell_type": "code",
      "source": [
        "#Average charge for the whole dataset\n",
        "%%sql\n",
        "SELECT AVG(charges)overall_avg_charge\n",
        "FROM insurance"
      ],
      "metadata": {
        "colab": {
          "base_uri": "https://localhost:8080/",
          "height": 97
        },
        "id": "wBQH1mg6af4a",
        "outputId": "893ef110-c4a9-46ff-9488-4fd6d58947e5"
      },
      "execution_count": 16,
      "outputs": [
        {
          "output_type": "stream",
          "name": "stdout",
          "text": [
            " * sqlite:///insurance.db\n",
            "Done.\n"
          ]
        },
        {
          "output_type": "execute_result",
          "data": {
            "text/plain": [
              "[(13270.422265141257,)]"
            ],
            "text/html": [
              "<table>\n",
              "    <thead>\n",
              "        <tr>\n",
              "            <th>overall_avg_charge</th>\n",
              "        </tr>\n",
              "    </thead>\n",
              "    <tbody>\n",
              "        <tr>\n",
              "            <td>13270.422265141257</td>\n",
              "        </tr>\n",
              "    </tbody>\n",
              "</table>"
            ]
          },
          "metadata": {},
          "execution_count": 16
        }
      ]
    },
    {
      "cell_type": "code",
      "source": [
        "#With CTE\n",
        "%%sql\n",
        "with overall AS(\n",
        "  SELECT AVG(charges) overall_avg_charge\n",
        "  FROM insurance\n",
        ")\n",
        "\n",
        "SELECT region, AVG(charges)avg_charge\n",
        "FROM insurance, overall\n",
        "GROUP BY region \n",
        "HAVING AVG(charges) < overall_avg_charge"
      ],
      "metadata": {
        "colab": {
          "base_uri": "https://localhost:8080/",
          "height": 119
        },
        "id": "07VNPVP7axxt",
        "outputId": "2dc89464-084f-40bf-c2c6-3073341ebc4f"
      },
      "execution_count": 17,
      "outputs": [
        {
          "output_type": "stream",
          "name": "stdout",
          "text": [
            " * sqlite:///insurance.db\n",
            "Done.\n"
          ]
        },
        {
          "output_type": "execute_result",
          "data": {
            "text/plain": [
              "[('northwest', 12417.575373969228), ('southwest', 12346.93737729231)]"
            ],
            "text/html": [
              "<table>\n",
              "    <thead>\n",
              "        <tr>\n",
              "            <th>region</th>\n",
              "            <th>avg_charge</th>\n",
              "        </tr>\n",
              "    </thead>\n",
              "    <tbody>\n",
              "        <tr>\n",
              "            <td>northwest</td>\n",
              "            <td>12417.575373969228</td>\n",
              "        </tr>\n",
              "        <tr>\n",
              "            <td>southwest</td>\n",
              "            <td>12346.93737729231</td>\n",
              "        </tr>\n",
              "    </tbody>\n",
              "</table>"
            ]
          },
          "metadata": {},
          "execution_count": 17
        }
      ]
    },
    {
      "cell_type": "code",
      "source": [
        "#With subquery\n",
        "%%sql\n",
        "SELECT region,AVG(charges) avg_charge\n",
        "FROM insurance\n",
        "GROUP BY region\n",
        "HAVING AVG (charges) < (SELECT AVG(charge) FROM insurance)"
      ],
      "metadata": {
        "colab": {
          "base_uri": "https://localhost:8080/"
        },
        "id": "gjQDkuxVggSb",
        "outputId": "866e88e5-5efb-4a41-c91e-9e06717effa5"
      },
      "execution_count": 18,
      "outputs": [
        {
          "output_type": "stream",
          "name": "stdout",
          "text": [
            " * sqlite:///insurance.db\n",
            "(sqlite3.OperationalError) no such column: charge\n",
            "[SQL: SELECT region,AVG(charges) avg_charge\n",
            "FROM insurance\n",
            "GROUP BY region\n",
            "HAVING AVG (charges) < (SELECT AVG(charge) FROM insurance)]\n",
            "(Background on this error at: https://sqlalche.me/e/14/e3q8)\n"
          ]
        }
      ]
    },
    {
      "cell_type": "code",
      "source": [
        "#Returns bool value\n",
        "%%sql\n",
        "SELECT  region, AVG(charges) < (SELECT AVG(charges) FROM insurance) avg_less_than_overall\n",
        "FROM insurance\n",
        "GROUP BY  region"
      ],
      "metadata": {
        "id": "pQ-7hOK0fsq6",
        "colab": {
          "base_uri": "https://localhost:8080/",
          "height": 162
        },
        "outputId": "982d63d7-8ed8-43ac-f6b4-ab1d2a6f9ff0"
      },
      "execution_count": 19,
      "outputs": [
        {
          "output_type": "stream",
          "name": "stdout",
          "text": [
            " * sqlite:///insurance.db\n",
            "Done.\n"
          ]
        },
        {
          "output_type": "execute_result",
          "data": {
            "text/plain": [
              "[('northeast', 0), ('northwest', 1), ('southeast', 0), ('southwest', 1)]"
            ],
            "text/html": [
              "<table>\n",
              "    <thead>\n",
              "        <tr>\n",
              "            <th>region</th>\n",
              "            <th>avg_less_than_overall</th>\n",
              "        </tr>\n",
              "    </thead>\n",
              "    <tbody>\n",
              "        <tr>\n",
              "            <td>northeast</td>\n",
              "            <td>0</td>\n",
              "        </tr>\n",
              "        <tr>\n",
              "            <td>northwest</td>\n",
              "            <td>1</td>\n",
              "        </tr>\n",
              "        <tr>\n",
              "            <td>southeast</td>\n",
              "            <td>0</td>\n",
              "        </tr>\n",
              "        <tr>\n",
              "            <td>southwest</td>\n",
              "            <td>1</td>\n",
              "        </tr>\n",
              "    </tbody>\n",
              "</table>"
            ]
          },
          "metadata": {},
          "execution_count": 19
        }
      ]
    },
    {
      "cell_type": "markdown",
      "source": [
        "5a. What can you say about people with children and those without children in terms of smoking"
      ],
      "metadata": {
        "id": "qbQPbKbypR0s"
      }
    },
    {
      "cell_type": "code",
      "source": [
        "\n",
        "%%sql\n",
        "WITH children AS (\n",
        "    SELECT  *\n",
        "    FROM    insurance\n",
        "    WHERE   children > 0\n",
        ")\n",
        "\n",
        "SELECT      region, sex, smoker, COUNT(*) count\n",
        "FROM        children\n",
        "GROUP BY    region, sex, smoker\n",
        "ORDER BY    count DESC\n",
        "LIMIT       10"
      ],
      "metadata": {
        "id": "UqIb2RAhgas5",
        "colab": {
          "base_uri": "https://localhost:8080/",
          "height": 290
        },
        "outputId": "2e6b0f5f-3caf-4f55-e263-a396e004ef5d"
      },
      "execution_count": 20,
      "outputs": [
        {
          "output_type": "stream",
          "name": "stdout",
          "text": [
            " * sqlite:///insurance.db\n",
            "Done.\n"
          ]
        },
        {
          "output_type": "execute_result",
          "data": {
            "text/plain": [
              "[('southeast', 'female', 'no', 82),\n",
              " ('southwest', 'female', 'no', 82),\n",
              " ('northwest', 'female', 'no', 80),\n",
              " ('northwest', 'male', 'no', 79),\n",
              " ('southeast', 'male', 'no', 74),\n",
              " ('southwest', 'male', 'no', 72),\n",
              " ('northeast', 'male', 'no', 69),\n",
              " ('northeast', 'female', 'no', 67),\n",
              " ('southeast', 'male', 'yes', 34),\n",
              " ('northeast', 'female', 'yes', 22)]"
            ],
            "text/html": [
              "<table>\n",
              "    <thead>\n",
              "        <tr>\n",
              "            <th>region</th>\n",
              "            <th>sex</th>\n",
              "            <th>smoker</th>\n",
              "            <th>count</th>\n",
              "        </tr>\n",
              "    </thead>\n",
              "    <tbody>\n",
              "        <tr>\n",
              "            <td>southeast</td>\n",
              "            <td>female</td>\n",
              "            <td>no</td>\n",
              "            <td>82</td>\n",
              "        </tr>\n",
              "        <tr>\n",
              "            <td>southwest</td>\n",
              "            <td>female</td>\n",
              "            <td>no</td>\n",
              "            <td>82</td>\n",
              "        </tr>\n",
              "        <tr>\n",
              "            <td>northwest</td>\n",
              "            <td>female</td>\n",
              "            <td>no</td>\n",
              "            <td>80</td>\n",
              "        </tr>\n",
              "        <tr>\n",
              "            <td>northwest</td>\n",
              "            <td>male</td>\n",
              "            <td>no</td>\n",
              "            <td>79</td>\n",
              "        </tr>\n",
              "        <tr>\n",
              "            <td>southeast</td>\n",
              "            <td>male</td>\n",
              "            <td>no</td>\n",
              "            <td>74</td>\n",
              "        </tr>\n",
              "        <tr>\n",
              "            <td>southwest</td>\n",
              "            <td>male</td>\n",
              "            <td>no</td>\n",
              "            <td>72</td>\n",
              "        </tr>\n",
              "        <tr>\n",
              "            <td>northeast</td>\n",
              "            <td>male</td>\n",
              "            <td>no</td>\n",
              "            <td>69</td>\n",
              "        </tr>\n",
              "        <tr>\n",
              "            <td>northeast</td>\n",
              "            <td>female</td>\n",
              "            <td>no</td>\n",
              "            <td>67</td>\n",
              "        </tr>\n",
              "        <tr>\n",
              "            <td>southeast</td>\n",
              "            <td>male</td>\n",
              "            <td>yes</td>\n",
              "            <td>34</td>\n",
              "        </tr>\n",
              "        <tr>\n",
              "            <td>northeast</td>\n",
              "            <td>female</td>\n",
              "            <td>yes</td>\n",
              "            <td>22</td>\n",
              "        </tr>\n",
              "    </tbody>\n",
              "</table>"
            ]
          },
          "metadata": {},
          "execution_count": 20
        }
      ]
    },
    {
      "cell_type": "markdown",
      "source": [
        "5b. What can you say about people with children and those without children in terms of smoking"
      ],
      "metadata": {
        "id": "bJF8ahPUpXOK"
      }
    },
    {
      "cell_type": "code",
      "source": [
        "%%sql\n",
        "WITH no_children AS (\n",
        "    SELECT  * \n",
        "    FROM    insurance\n",
        "    WHERE   children <= 0\n",
        ")\n",
        "\n",
        "SELECT      region, sex, smoker, COUNT(*) count\n",
        "FROM        no_children\n",
        "GROUP BY    region, sex, smoker\n",
        "ORDER BY    count DESC\n",
        "LIMIT       10"
      ],
      "metadata": {
        "id": "n8L5ep0opTO-",
        "colab": {
          "base_uri": "https://localhost:8080/",
          "height": 290
        },
        "outputId": "8f453a2b-87fc-41eb-d385-0ad6f3572e87"
      },
      "execution_count": 21,
      "outputs": [
        {
          "output_type": "stream",
          "name": "stdout",
          "text": [
            " * sqlite:///insurance.db\n",
            "Done.\n"
          ]
        },
        {
          "output_type": "execute_result",
          "data": {
            "text/plain": [
              "[('northeast', 'female', 'no', 65),\n",
              " ('southeast', 'male', 'no', 60),\n",
              " ('southwest', 'female', 'no', 59),\n",
              " ('southeast', 'female', 'no', 57),\n",
              " ('northeast', 'male', 'no', 56),\n",
              " ('northwest', 'female', 'no', 55),\n",
              " ('southwest', 'male', 'no', 54),\n",
              " ('northwest', 'male', 'no', 53),\n",
              " ('southeast', 'male', 'yes', 21),\n",
              " ('northeast', 'male', 'yes', 19)]"
            ],
            "text/html": [
              "<table>\n",
              "    <thead>\n",
              "        <tr>\n",
              "            <th>region</th>\n",
              "            <th>sex</th>\n",
              "            <th>smoker</th>\n",
              "            <th>count</th>\n",
              "        </tr>\n",
              "    </thead>\n",
              "    <tbody>\n",
              "        <tr>\n",
              "            <td>northeast</td>\n",
              "            <td>female</td>\n",
              "            <td>no</td>\n",
              "            <td>65</td>\n",
              "        </tr>\n",
              "        <tr>\n",
              "            <td>southeast</td>\n",
              "            <td>male</td>\n",
              "            <td>no</td>\n",
              "            <td>60</td>\n",
              "        </tr>\n",
              "        <tr>\n",
              "            <td>southwest</td>\n",
              "            <td>female</td>\n",
              "            <td>no</td>\n",
              "            <td>59</td>\n",
              "        </tr>\n",
              "        <tr>\n",
              "            <td>southeast</td>\n",
              "            <td>female</td>\n",
              "            <td>no</td>\n",
              "            <td>57</td>\n",
              "        </tr>\n",
              "        <tr>\n",
              "            <td>northeast</td>\n",
              "            <td>male</td>\n",
              "            <td>no</td>\n",
              "            <td>56</td>\n",
              "        </tr>\n",
              "        <tr>\n",
              "            <td>northwest</td>\n",
              "            <td>female</td>\n",
              "            <td>no</td>\n",
              "            <td>55</td>\n",
              "        </tr>\n",
              "        <tr>\n",
              "            <td>southwest</td>\n",
              "            <td>male</td>\n",
              "            <td>no</td>\n",
              "            <td>54</td>\n",
              "        </tr>\n",
              "        <tr>\n",
              "            <td>northwest</td>\n",
              "            <td>male</td>\n",
              "            <td>no</td>\n",
              "            <td>53</td>\n",
              "        </tr>\n",
              "        <tr>\n",
              "            <td>southeast</td>\n",
              "            <td>male</td>\n",
              "            <td>yes</td>\n",
              "            <td>21</td>\n",
              "        </tr>\n",
              "        <tr>\n",
              "            <td>northeast</td>\n",
              "            <td>male</td>\n",
              "            <td>yes</td>\n",
              "            <td>19</td>\n",
              "        </tr>\n",
              "    </tbody>\n",
              "</table>"
            ]
          },
          "metadata": {},
          "execution_count": 21
        }
      ]
    },
    {
      "cell_type": "markdown",
      "source": [
        "--6. Which region has the highest number of smokers?"
      ],
      "metadata": {
        "id": "7CxY7OsjpWmn"
      }
    },
    {
      "cell_type": "code",
      "source": [
        "\n",
        "%%sql\n",
        "SELECT region, MAX(count) max_smoker\n",
        "FROM    (\n",
        "    SELECT      region, COUNT(*) count\n",
        "    FROM        insurance\n",
        "    WHERE       smoker = 'yes'\n",
        "    GROUP BY    region\n",
        ")"
      ],
      "metadata": {
        "id": "dRAyRBcIplw2",
        "colab": {
          "base_uri": "https://localhost:8080/",
          "height": 97
        },
        "outputId": "6374b928-4b95-4c56-b435-4bf2a14721be"
      },
      "execution_count": 22,
      "outputs": [
        {
          "output_type": "stream",
          "name": "stdout",
          "text": [
            " * sqlite:///insurance.db\n",
            "Done.\n"
          ]
        },
        {
          "output_type": "execute_result",
          "data": {
            "text/plain": [
              "[('southeast', 91)]"
            ],
            "text/html": [
              "<table>\n",
              "    <thead>\n",
              "        <tr>\n",
              "            <th>region</th>\n",
              "            <th>max_smoker</th>\n",
              "        </tr>\n",
              "    </thead>\n",
              "    <tbody>\n",
              "        <tr>\n",
              "            <td>southeast</td>\n",
              "            <td>91</td>\n",
              "        </tr>\n",
              "    </tbody>\n",
              "</table>"
            ]
          },
          "metadata": {},
          "execution_count": 22
        }
      ]
    },
    {
      "cell_type": "markdown",
      "source": [
        "7. Which region has the lowest number of smokers?"
      ],
      "metadata": {
        "id": "YHczFeiBppNv"
      }
    },
    {
      "cell_type": "code",
      "source": [
        "%%sql\n",
        "SELECT      region, COUNT(*) count\n",
        "FROM        insurance\n",
        "WHERE       smoker = 'yes'\n",
        "GROUP BY    region\n",
        "\n",
        "%%sql\n",
        "SELECT region, MIN(count) min_smoker\n",
        "FROM    (\n",
        "    SELECT      region, COUNT(*) count\n",
        "    FROM        insurance\n",
        "    WHERE       smoker = 'yes'\n",
        "    GROUP BY    region\n",
        ")"
      ],
      "metadata": {
        "id": "Q-y0ImPoqSpJ",
        "colab": {
          "base_uri": "https://localhost:8080/"
        },
        "outputId": "cd9ddb36-a765-4e0e-adac-5354c9f44e91"
      },
      "execution_count": 23,
      "outputs": [
        {
          "output_type": "stream",
          "name": "stdout",
          "text": [
            " * sqlite:///insurance.db\n",
            "(sqlite3.OperationalError) near \"%\": syntax error\n",
            "[SQL: SELECT      region, COUNT(*) count\n",
            "FROM        insurance\n",
            "WHERE       smoker = 'yes'\n",
            "GROUP BY    region\n",
            "\n",
            "%%sql\n",
            "SELECT region, MIN(count) min_smoker\n",
            "FROM    (\n",
            "    SELECT      region, COUNT(*) count\n",
            "    FROM        insurance\n",
            "    WHERE       smoker = 'yes'\n",
            "    GROUP BY    region\n",
            ")]\n",
            "(Background on this error at: https://sqlalche.me/e/14/e3q8)\n"
          ]
        }
      ]
    },
    {
      "cell_type": "markdown",
      "source": [
        "8. What is the average charge from female?"
      ],
      "metadata": {
        "id": "R9e41cPeq8k3"
      }
    },
    {
      "cell_type": "code",
      "source": [
        "\n",
        "%%sql\n",
        "SELECT  sex, AVG(charges) avg_charge\n",
        "FROM    insurance\n",
        "WHERE   sex = 'female'"
      ],
      "metadata": {
        "id": "czLBgMBAq7hv",
        "colab": {
          "base_uri": "https://localhost:8080/",
          "height": 97
        },
        "outputId": "22e3e9be-f977-4189-81ba-db809601b938"
      },
      "execution_count": 24,
      "outputs": [
        {
          "output_type": "stream",
          "name": "stdout",
          "text": [
            " * sqlite:///insurance.db\n",
            "Done.\n"
          ]
        },
        {
          "output_type": "execute_result",
          "data": {
            "text/plain": [
              "[('female', 12569.57884383534)]"
            ],
            "text/html": [
              "<table>\n",
              "    <thead>\n",
              "        <tr>\n",
              "            <th>sex</th>\n",
              "            <th>avg_charge</th>\n",
              "        </tr>\n",
              "    </thead>\n",
              "    <tbody>\n",
              "        <tr>\n",
              "            <td>female</td>\n",
              "            <td>12569.57884383534</td>\n",
              "        </tr>\n",
              "    </tbody>\n",
              "</table>"
            ]
          },
          "metadata": {},
          "execution_count": 24
        }
      ]
    },
    {
      "cell_type": "markdown",
      "source": [
        "### Summary\n",
        "\n",
        "\n",
        "\n",
        "1. 115 Female are smokers while 159 Male are smokers\n",
        "2. Southeast has the highest number of non smokers, 273. Northwest and Southwest has 58 smokers, the lowest across all region.\n",
        "3. Northwest and Southwest are the region with average charge lower than the overall average charge.\n",
        "4. Southeast has the highest number of smokers\n",
        "5. The average charges from Female is $12,570"
      ],
      "metadata": {
        "id": "070duHqvrRA3"
      }
    }
  ]
}